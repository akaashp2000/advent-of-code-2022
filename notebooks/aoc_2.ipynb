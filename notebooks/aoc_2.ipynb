{
 "cells": [
  {
   "cell_type": "code",
   "execution_count": 15,
   "metadata": {},
   "outputs": [],
   "source": [
    "from ast import literal_eval\n",
    "import numpy as np"
   ]
  },
  {
   "cell_type": "code",
   "execution_count": 16,
   "metadata": {},
   "outputs": [],
   "source": [
    "def outcome(a, b):\n",
    "    mapping = {\n",
    "        'A': 0,\n",
    "        'X': 0,\n",
    "        'B': 1,\n",
    "        'Y': 1,\n",
    "        'C': 2,\n",
    "        'Z': 2 \n",
    "    }\n",
    "    outcome_map = {\n",
    "        0: 3,\n",
    "        1: 6,\n",
    "        2: 0\n",
    "    }\n",
    "    shape_map = {\n",
    "        'X': 1,\n",
    "        'Y': 2,\n",
    "        'Z': 3\n",
    "    }\n",
    "    return(shape_map[b] + outcome_map[(mapping[b] - mapping[a]) % 3])"
   ]
  },
  {
   "cell_type": "code",
   "execution_count": 17,
   "metadata": {},
   "outputs": [],
   "source": [
    "def outcome2(a,b):\n",
    "    mapping = {\n",
    "        'A': 0,\n",
    "        'B': 1,\n",
    "        'C': 2\n",
    "    }\n",
    "    outcome_map = {\n",
    "        0: 0,\n",
    "        1: 3,\n",
    "        2: 6\n",
    "    }\n",
    "    shape_map = {\n",
    "        'X': 0,\n",
    "        'Y': 1,\n",
    "        'Z': 2\n",
    "    }\n",
    "    return((shape_map[b] - 1 + mapping[a])%3 + 1 + outcome_map[shape_map[b]])"
   ]
  },
  {
   "cell_type": "code",
   "execution_count": 18,
   "metadata": {},
   "outputs": [
    {
     "data": {
      "text/plain": [
       "10624"
      ]
     },
     "execution_count": 18,
     "metadata": {},
     "output_type": "execute_result"
    }
   ],
   "source": [
    "with open('../data/input_02.txt') as file:\n",
    "    data = file.read()\n",
    "\n",
    "sum([outcome(*x.split()) for x in data.split('\\n')[:-1]])"
   ]
  },
  {
   "cell_type": "code",
   "execution_count": 19,
   "metadata": {},
   "outputs": [
    {
     "data": {
      "text/plain": [
       "14060"
      ]
     },
     "execution_count": 19,
     "metadata": {},
     "output_type": "execute_result"
    }
   ],
   "source": [
    "sum([outcome2(*x.split()) for x in data.split('\\n')[:-1]])"
   ]
  }
 ],
 "metadata": {
  "kernelspec": {
   "display_name": "venv",
   "language": "python",
   "name": "python3"
  },
  "language_info": {
   "codemirror_mode": {
    "name": "ipython",
    "version": 3
   },
   "file_extension": ".py",
   "mimetype": "text/x-python",
   "name": "python",
   "nbconvert_exporter": "python",
   "pygments_lexer": "ipython3",
   "version": "3.9.12"
  },
  "orig_nbformat": 4,
  "vscode": {
   "interpreter": {
    "hash": "9ec5fc6f2b5f4e9f0e8cf19b0d36b2109aee8b1eaa97dc39911c09f6ac631a49"
   }
  }
 },
 "nbformat": 4,
 "nbformat_minor": 2
}
