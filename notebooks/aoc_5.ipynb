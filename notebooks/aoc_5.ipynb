{
 "cells": [
  {
   "cell_type": "code",
   "execution_count": 39,
   "metadata": {},
   "outputs": [],
   "source": [
    "with open('./data/input_05_1.txt') as file:\n",
    "    data = file.read().split('\\n')\n",
    "    file.close()\n",
    "\n",
    "with open('./data/input_05_2.txt') as file:\n",
    "    instr = [x.split('move ')[1].split(' from ') for x in file.read().split('\\n')[:-1]]\n",
    "    instr = [[int(x[0]), *[int(y) for y in x[1].split(' to ')]] for x in instr]\n",
    "    file.close()\n",
    "\n",
    "for inst in instr:\n",
    "    for j in range(inst[0]):\n",
    "        data[inst[2] - 1] = data[inst[2] - 1] + data[inst[1] - 1][-1]\n",
    "        data[inst[1] - 1] = data[inst[1] - 1][:-1]"
   ]
  },
  {
   "cell_type": "code",
   "execution_count": 40,
   "metadata": {},
   "outputs": [
    {
     "data": {
      "text/plain": [
       "['FWHGZHVCSZNSQ',\n",
       " 'DWP',\n",
       " 'NMFJ',\n",
       " 'P',\n",
       " 'MMVWNTWL',\n",
       " 'NM',\n",
       " 'FLWJLTFRN',\n",
       " 'GPN',\n",
       " 'BRCZFBDBSNRHR']"
      ]
     },
     "execution_count": 40,
     "metadata": {},
     "output_type": "execute_result"
    }
   ],
   "source": [
    "data"
   ]
  },
  {
   "cell_type": "code",
   "execution_count": 41,
   "metadata": {},
   "outputs": [],
   "source": [
    "with open('./data/input_05_1.txt') as file:\n",
    "    data = file.read().split('\\n')\n",
    "    file.close()\n",
    "\n",
    "with open('./data/input_05_2.txt') as file:\n",
    "    instr = [x.split('move ')[1].split(' from ') for x in file.read().split('\\n')[:-1]]\n",
    "    instr = [[int(x[0]), *[int(y) for y in x[1].split(' to ')]] for x in instr]\n",
    "    file.close()\n",
    "\n",
    "for inst in instr:\n",
    "    data[inst[2] - 1] = data[inst[2] - 1] + data[inst[1] - 1][-inst[0]:]\n",
    "    data[inst[1] - 1] = data[inst[1] - 1][:-inst[0]]"
   ]
  },
  {
   "cell_type": "code",
   "execution_count": 42,
   "metadata": {},
   "outputs": [
    {
     "data": {
      "text/plain": [
       "['LRWNWSGSVMFHB',\n",
       " 'NNQ',\n",
       " 'CCTD',\n",
       " 'N',\n",
       " 'ZHPNLBWW',\n",
       " 'SJ',\n",
       " 'TRFFPHMRP',\n",
       " 'LNV',\n",
       " 'WDZMMNGRFFBZJ']"
      ]
     },
     "execution_count": 42,
     "metadata": {},
     "output_type": "execute_result"
    }
   ],
   "source": [
    "data"
   ]
  }
 ],
 "metadata": {
  "kernelspec": {
   "display_name": "Python 3.9.6 64-bit",
   "language": "python",
   "name": "python3"
  },
  "language_info": {
   "codemirror_mode": {
    "name": "ipython",
    "version": 3
   },
   "file_extension": ".py",
   "mimetype": "text/x-python",
   "name": "python",
   "nbconvert_exporter": "python",
   "pygments_lexer": "ipython3",
   "version": "3.9.6"
  },
  "orig_nbformat": 4,
  "vscode": {
   "interpreter": {
    "hash": "31f2aee4e71d21fbe5cf8b01ff0e069b9275f58929596ceb00d14d90e3e16cd6"
   }
  }
 },
 "nbformat": 4,
 "nbformat_minor": 2
}
