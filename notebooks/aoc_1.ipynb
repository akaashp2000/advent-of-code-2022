{
 "cells": [
  {
   "cell_type": "code",
   "execution_count": 14,
   "metadata": {},
   "outputs": [],
   "source": [
    "with open('../data/input_01.txt', 'r') as file:\n",
    "    data = [x.split('\\n') for x in file.read().split('\\n\\n')]\n",
    "    file.close()\n",
    "\n",
    "data[-1] = data[-1][:-1]\n",
    "data = list(map(lambda x: list(map(int, x)), data))"
   ]
  },
  {
   "cell_type": "code",
   "execution_count": 15,
   "metadata": {},
   "outputs": [
    {
     "name": "stdout",
     "output_type": "stream",
     "text": [
      "66719\n"
     ]
    }
   ],
   "source": [
    "# Part 1\n",
    "\n",
    "print(max([sum(x) for x in data]))"
   ]
  },
  {
   "cell_type": "code",
   "execution_count": 16,
   "metadata": {},
   "outputs": [
    {
     "name": "stdout",
     "output_type": "stream",
     "text": [
      "198551\n"
     ]
    }
   ],
   "source": [
    "print(sum(sorted([sum(x) for x in data])[-3:]))"
   ]
  }
 ],
 "metadata": {
  "kernelspec": {
   "display_name": "venv",
   "language": "python",
   "name": "python3"
  },
  "language_info": {
   "codemirror_mode": {
    "name": "ipython",
    "version": 3
   },
   "file_extension": ".py",
   "mimetype": "text/x-python",
   "name": "python",
   "nbconvert_exporter": "python",
   "pygments_lexer": "ipython3",
   "version": "3.9.12"
  },
  "orig_nbformat": 4,
  "vscode": {
   "interpreter": {
    "hash": "9ec5fc6f2b5f4e9f0e8cf19b0d36b2109aee8b1eaa97dc39911c09f6ac631a49"
   }
  }
 },
 "nbformat": 4,
 "nbformat_minor": 2
}
