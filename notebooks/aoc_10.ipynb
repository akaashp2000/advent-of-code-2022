{
 "cells": [
  {
   "cell_type": "code",
   "execution_count": 1,
   "metadata": {},
   "outputs": [],
   "source": [
    "import numpy as np"
   ]
  },
  {
   "cell_type": "code",
   "execution_count": 2,
   "metadata": {},
   "outputs": [],
   "source": [
    "with open('../data/input_10.txt','r') as file:\n",
    "    data = file.read().split('\\n')[:-1]"
   ]
  },
  {
   "cell_type": "code",
   "execution_count": 3,
   "metadata": {},
   "outputs": [],
   "source": [
    "out = []\n",
    "total = [1]\n",
    "\n",
    "for x in data:\n",
    "    if x == 'noop':\n",
    "        out = [*out, 0]\n",
    "        total = [*total, total[-1]]\n",
    "    else:\n",
    "        out = [*out, 0, int(x.split(' ')[1])]\n",
    "        total = [*total, total[-1], total[-1] + out[-1]]"
   ]
  },
  {
   "cell_type": "code",
   "execution_count": 4,
   "metadata": {},
   "outputs": [
    {
     "name": "stdout",
     "output_type": "stream",
     "text": [
      "13860\n"
     ]
    }
   ],
   "source": [
    "indices = [20,60,100,140,180,220]\n",
    "\n",
    "scores_to_sum = [total[i-1] for i in indices]\n",
    "sum = 0\n",
    "for score, index in list(zip(scores_to_sum, indices)):\n",
    "    sum+=score*index\n",
    "\n",
    "print(sum)"
   ]
  },
  {
   "cell_type": "code",
   "execution_count": 5,
   "metadata": {},
   "outputs": [
    {
     "name": "stdout",
     "output_type": "stream",
     "text": [
      "##..####.#..#.####..##....##..##..###...\n",
      "..#....#.#..#.#....#..#....#.#..#.#..#..\n",
      "..#...#..####.###..#.......#.#....###...\n",
      "##...#...#..#.#....#.##....#.#....#..#..\n",
      ".#..#....#..#.#....#..#.#..#.#..#.#..#..\n",
      "..#.####.#..#.#.....###..##...##..###...\n"
     ]
    }
   ],
   "source": [
    "screen = []\n",
    "for i, position in list(enumerate(total[1:])):\n",
    "    if i%40 + 1 in range(position-1, position+2):\n",
    "        screen.append('#')\n",
    "    else:\n",
    "        screen.append('.')\n",
    "\n",
    "for j in np.array(screen).reshape(6,40):\n",
    "    print(''.join(j))"
   ]
  }
 ],
 "metadata": {
  "kernelspec": {
   "display_name": "base",
   "language": "python",
   "name": "python3"
  },
  "language_info": {
   "codemirror_mode": {
    "name": "ipython",
    "version": 3
   },
   "file_extension": ".py",
   "mimetype": "text/x-python",
   "name": "python",
   "nbconvert_exporter": "python",
   "pygments_lexer": "ipython3",
   "version": "3.9.12"
  },
  "orig_nbformat": 4,
  "vscode": {
   "interpreter": {
    "hash": "0f6f8d1bc3858cb7dc3483d1d93336083ab083c5dfd2763497688f650493169d"
   }
  }
 },
 "nbformat": 4,
 "nbformat_minor": 2
}
