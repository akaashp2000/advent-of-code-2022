{
 "cells": [
  {
   "cell_type": "code",
   "execution_count": 1,
   "metadata": {},
   "outputs": [],
   "source": [
    "def op_gen(command):\n",
    "    if command[1] == '+':\n",
    "        return(lambda t: sum([t if y == 'old' else int(y) for y in command[0::2]]))\n",
    "    else:\n",
    "        return(lambda t: t*(t if command[-1] == 'old' else int(command[-1])))"
   ]
  },
  {
   "cell_type": "code",
   "execution_count": 2,
   "metadata": {},
   "outputs": [],
   "source": [
    "def instructions_func():\n",
    "\n",
    "    with open('../data/input_11.txt', 'r') as file:\n",
    "        data = [x.split('\\n') for x in file.read().split('\\n\\n')]\n",
    "\n",
    "    instructions = {i: {\n",
    "        'start': [int(y[-1]) for y in [x.split(': ')for x in instruction[1].split(', ')]], \\\n",
    "        'operation': op_gen(instruction[2].split('new = ')[-1].split(' ')), \\\n",
    "        'test': int(instruction[3].split('by ')[-1]), \\\n",
    "        'pass': int(instruction[4].split('monkey ')[-1]), \\\n",
    "        'fail': int(instruction[5].split('monkey ')[-1]), \\\n",
    "        'inspected': 0\n",
    "        } for i, instruction in list(enumerate(data))}\n",
    "\n",
    "    return instructions"
   ]
  },
  {
   "cell_type": "code",
   "execution_count": 3,
   "metadata": {},
   "outputs": [
    {
     "name": "stdout",
     "output_type": "stream",
     "text": [
      "62491\n"
     ]
    }
   ],
   "source": [
    "# Part 1\n",
    "\n",
    "instructions = instructions_func()\n",
    "\n",
    "for _ in range(20):\n",
    "    for j in instructions.keys():\n",
    "        for worry in instructions[j]['start']:\n",
    "            worry = int(instructions[j]['operation'](worry) / 3)\n",
    "            if worry % instructions[j]['test'] == 0:\n",
    "                instructions[instructions[j]['pass']]['start'].append(worry)\n",
    "            else:\n",
    "                instructions[instructions[j]['fail']]['start'].append(worry)\n",
    "            instructions[j]['start'] = instructions[j]['start'][1:]\n",
    "            instructions[j]['inspected']+=1\n",
    "\n",
    "top_two = sorted([instructions[j]['inspected'] for j in instructions.keys()])[-2:]\n",
    "print(top_two[0]*top_two[1])"
   ]
  },
  {
   "cell_type": "code",
   "execution_count": 4,
   "metadata": {},
   "outputs": [
    {
     "name": "stdout",
     "output_type": "stream",
     "text": [
      "17408399184\n"
     ]
    }
   ],
   "source": [
    "# Part 2\n",
    "\n",
    "instructions = instructions_func()\n",
    "\n",
    "for _ in range(10000):\n",
    "    for j in instructions.keys():\n",
    "        for worry in instructions[j]['start']:\n",
    "            worry = instructions[j]['operation'](worry) % (2*3*5*7*11*13*17*19)\n",
    "            if worry % instructions[j]['test'] == 0:\n",
    "                instructions[instructions[j]['pass']]['start'].append(worry)\n",
    "            else:\n",
    "                instructions[instructions[j]['fail']]['start'].append(worry)\n",
    "            instructions[j]['start'] = instructions[j]['start'][1:]\n",
    "            instructions[j]['inspected']+=1\n",
    "\n",
    "top_two = sorted([instructions[j]['inspected'] for j in instructions.keys()])[-2:]\n",
    "print(top_two[0]*top_two[1])"
   ]
  }
 ],
 "metadata": {
  "kernelspec": {
   "display_name": "base",
   "language": "python",
   "name": "python3"
  },
  "language_info": {
   "codemirror_mode": {
    "name": "ipython",
    "version": 3
   },
   "file_extension": ".py",
   "mimetype": "text/x-python",
   "name": "python",
   "nbconvert_exporter": "python",
   "pygments_lexer": "ipython3",
   "version": "3.9.12"
  },
  "orig_nbformat": 4,
  "vscode": {
   "interpreter": {
    "hash": "0f6f8d1bc3858cb7dc3483d1d93336083ab083c5dfd2763497688f650493169d"
   }
  }
 },
 "nbformat": 4,
 "nbformat_minor": 2
}
