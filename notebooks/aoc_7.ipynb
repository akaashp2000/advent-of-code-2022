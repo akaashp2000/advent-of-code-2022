{
 "cells": [
  {
   "cell_type": "code",
   "execution_count": 1,
   "metadata": {},
   "outputs": [],
   "source": [
    "with open('../data/input_07.txt', 'r') as file:\n",
    "    data = file.read()\n",
    "    file.close()\n",
    "\n",
    "cmdline = [x[1:].split('\\n')[:-1] for x in data.split('$')[1:]]"
   ]
  },
  {
   "cell_type": "code",
   "execution_count": 2,
   "metadata": {},
   "outputs": [],
   "source": [
    "files = {}\n",
    "paths_str = []\n",
    "paths_arr = []\n",
    "current_dir_str = '/'\n",
    "current_dir_arr = []\n",
    "for cmd in cmdline[1:]:\n",
    "    if cmd[0][:2] == 'cd':\n",
    "        if cmd[0][:5] == 'cd ..':\n",
    "            current_dir_arr = current_dir_arr[:-1]\n",
    "        else:\n",
    "            current_dir_arr.append(cmd[0][3:])\n",
    "        current_dir_str = '/' + '/'.join(current_dir_arr)\n",
    "        paths_str.append(current_dir_str)\n",
    "        paths_arr.append(current_dir_arr)\n",
    "    else:\n",
    "        for entry in cmd[1:]:\n",
    "            if entry[:3] != 'dir':\n",
    "                size, file = entry.split(' ')\n",
    "                files[current_dir_str+file] = {'size': int(size), 'location': current_dir_str}\n",
    "\n",
    "for file in files.keys():\n",
    "    files[file]['locations'] = set([location for location in paths_str if location in files[file]['location']])"
   ]
  },
  {
   "cell_type": "code",
   "execution_count": 3,
   "metadata": {},
   "outputs": [],
   "source": [
    "dir_size = {location: sum([files[file]['size'] for file in files.keys() if location in files[file]['locations']]) for location in set(paths_str)}\n",
    "\n",
    "# a dictionary of directories and their sizes (which are the sum of sizes of files that are in it)"
   ]
  },
  {
   "cell_type": "code",
   "execution_count": 4,
   "metadata": {},
   "outputs": [
    {
     "data": {
      "text/plain": [
       "1086293"
      ]
     },
     "execution_count": 4,
     "metadata": {},
     "output_type": "execute_result"
    }
   ],
   "source": [
    "sum([dir_size[location] for location in dir_size.keys() if dir_size[location] <= 100000])"
   ]
  },
  {
   "cell_type": "code",
   "execution_count": 5,
   "metadata": {},
   "outputs": [
    {
     "data": {
      "text/plain": [
       "366028"
      ]
     },
     "execution_count": 5,
     "metadata": {},
     "output_type": "execute_result"
    }
   ],
   "source": [
    "min([dir_size[location] for location in dir_size.keys() if dir_size[location] >= dir_size['/'] - 40000000])"
   ]
  }
 ],
 "metadata": {
  "kernelspec": {
   "display_name": "Python 3.9.12 ('base')",
   "language": "python",
   "name": "python3"
  },
  "language_info": {
   "codemirror_mode": {
    "name": "ipython",
    "version": 3
   },
   "file_extension": ".py",
   "mimetype": "text/x-python",
   "name": "python",
   "nbconvert_exporter": "python",
   "pygments_lexer": "ipython3",
   "version": "3.9.12"
  },
  "orig_nbformat": 4,
  "vscode": {
   "interpreter": {
    "hash": "0f6f8d1bc3858cb7dc3483d1d93336083ab083c5dfd2763497688f650493169d"
   }
  }
 },
 "nbformat": 4,
 "nbformat_minor": 2
}
