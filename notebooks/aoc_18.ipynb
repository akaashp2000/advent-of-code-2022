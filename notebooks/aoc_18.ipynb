{
 "cells": [
  {
   "cell_type": "code",
   "execution_count": 15,
   "metadata": {},
   "outputs": [],
   "source": [
    "def read_file(test=False):\n",
    "    with open(f\"../data/input_18{'_test' if test else ''}.txt\") as file:\n",
    "        _data = file.read().split('\\n')[:-1]\n",
    "        data = [list(map(int, x.split(','))) for x in _data]\n",
    "        file.close()\n",
    "\n",
    "    return data"
   ]
  },
  {
   "cell_type": "code",
   "execution_count": 21,
   "metadata": {},
   "outputs": [],
   "source": [
    "data = read_file()\n",
    "n = len(data)"
   ]
  },
  {
   "cell_type": "code",
   "execution_count": 22,
   "metadata": {},
   "outputs": [
    {
     "name": "stdout",
     "output_type": "stream",
     "text": [
      "4418\n"
     ]
    }
   ],
   "source": [
    "exposed = 6 * n\n",
    "\n",
    "for i in range(n - 1):\n",
    "    x1,y1,z1 = tuple(data[i])\n",
    "    for j in range(i + 1, n):\n",
    "        x2,y2,z2 = tuple(data[j])\n",
    "        if sum([abs(x2-x1), abs(y2-y1), abs(z2-z1)]) == 1:\n",
    "            exposed = exposed - 2\n",
    "\n",
    "print(exposed)"
   ]
  }
 ],
 "metadata": {
  "kernelspec": {
   "display_name": "venv",
   "language": "python",
   "name": "python3"
  },
  "language_info": {
   "codemirror_mode": {
    "name": "ipython",
    "version": 3
   },
   "file_extension": ".py",
   "mimetype": "text/x-python",
   "name": "python",
   "nbconvert_exporter": "python",
   "pygments_lexer": "ipython3",
   "version": "3.9.13"
  },
  "orig_nbformat": 4,
  "vscode": {
   "interpreter": {
    "hash": "0f8ef9982dec2d6c038b4f0c3f0f3ef9c5495dba2d96c6edda8142b7fced4d73"
   }
  }
 },
 "nbformat": 4,
 "nbformat_minor": 2
}
