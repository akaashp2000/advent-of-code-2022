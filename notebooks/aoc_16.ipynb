{
 "cells": [
  {
   "cell_type": "code",
   "execution_count": 35,
   "metadata": {},
   "outputs": [],
   "source": [
    "def str_to_dict(line):\n",
    "    plural = 'tunnels' in line\n",
    "\n",
    "    if plural:\n",
    "        return {'flow': int(line.split('; tunnels lead to valves ')[0]), 'children': line.split('; tunnels lead to valves ')[1].split(', ')}\n",
    "    else:\n",
    "        return {'flow': int(line.split('; tunnel leads to valve ')[0]), 'children': line.split('; tunnel leads to valve ')[1:]}\n",
    "\n",
    "def read_file(test=False):\n",
    "    with open(f\"../data/input_16{'_test' if test else ''}.txt\", \"r\") as file:\n",
    "        data = file.read().split('\\n')[:-1]\n",
    "        data = [x.split('Valve ')[-1] for x in data]\n",
    "        data = {x.split(' has flow rate=')[0]: x.split(' has flow rate=')[1] for x in data}\n",
    "        data = {key: str_to_dict(data[key]) for key in data.keys()}\n",
    "        file.close()\n",
    "\n",
    "    return data"
   ]
  },
  {
   "cell_type": "code",
   "execution_count": 36,
   "metadata": {},
   "outputs": [
    {
     "data": {
      "text/plain": [
       "{'AA': {'flow': 0, 'children': ['DD', 'II', 'BB']},\n",
       " 'BB': {'flow': 13, 'children': ['CC', 'AA']},\n",
       " 'CC': {'flow': 2, 'children': ['DD', 'BB']},\n",
       " 'DD': {'flow': 20, 'children': ['CC', 'AA', 'EE']},\n",
       " 'EE': {'flow': 3, 'children': ['FF', 'DD']},\n",
       " 'FF': {'flow': 0, 'children': ['EE', 'GG']},\n",
       " 'GG': {'flow': 0, 'children': ['FF', 'HH']},\n",
       " 'HH': {'flow': 22, 'children': ['GG']},\n",
       " 'II': {'flow': 0, 'children': ['AA', 'JJ']},\n",
       " 'JJ': {'flow': 21, 'children': ['II']}}"
      ]
     },
     "execution_count": 36,
     "metadata": {},
     "output_type": "execute_result"
    }
   ],
   "source": [
    "read_file(True)"
   ]
  }
 ],
 "metadata": {
  "kernelspec": {
   "display_name": "venv",
   "language": "python",
   "name": "python3"
  },
  "language_info": {
   "codemirror_mode": {
    "name": "ipython",
    "version": 3
   },
   "file_extension": ".py",
   "mimetype": "text/x-python",
   "name": "python",
   "nbconvert_exporter": "python",
   "pygments_lexer": "ipython3",
   "version": "3.9.12"
  },
  "orig_nbformat": 4,
  "vscode": {
   "interpreter": {
    "hash": "9ec5fc6f2b5f4e9f0e8cf19b0d36b2109aee8b1eaa97dc39911c09f6ac631a49"
   }
  }
 },
 "nbformat": 4,
 "nbformat_minor": 2
}
