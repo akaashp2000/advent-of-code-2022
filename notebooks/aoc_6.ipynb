{
 "cells": [
  {
   "cell_type": "code",
   "execution_count": 1,
   "metadata": {},
   "outputs": [],
   "source": [
    "def read_file():\n",
    "    with open('../data/input_06.txt', 'r') as file:\n",
    "        data = file.read()[:-2]\n",
    "\n",
    "    return data"
   ]
  },
  {
   "cell_type": "code",
   "execution_count": 2,
   "metadata": {},
   "outputs": [
    {
     "name": "stdout",
     "output_type": "stream",
     "text": [
      "1779\n"
     ]
    }
   ],
   "source": [
    "# part 1\n",
    "data = read_file()\n",
    "\n",
    "for index in range(4, len(data)):\n",
    "    if len(set(data[index-4:index])) == 4:\n",
    "        print(index)\n",
    "        break"
   ]
  },
  {
   "cell_type": "code",
   "execution_count": 3,
   "metadata": {},
   "outputs": [
    {
     "name": "stdout",
     "output_type": "stream",
     "text": [
      "2635\n"
     ]
    }
   ],
   "source": [
    "# part 2\n",
    "data = read_file()\n",
    "\n",
    "for index in range(14, len(data)):\n",
    "    if len(set(data[index-14:index])) == 14:\n",
    "        print(index)\n",
    "        break"
   ]
  }
 ],
 "metadata": {
  "kernelspec": {
   "display_name": "Python 3.9.12 ('base')",
   "language": "python",
   "name": "python3"
  },
  "language_info": {
   "codemirror_mode": {
    "name": "ipython",
    "version": 3
   },
   "file_extension": ".py",
   "mimetype": "text/x-python",
   "name": "python",
   "nbconvert_exporter": "python",
   "pygments_lexer": "ipython3",
   "version": "3.9.12"
  },
  "orig_nbformat": 4,
  "vscode": {
   "interpreter": {
    "hash": "0f6f8d1bc3858cb7dc3483d1d93336083ab083c5dfd2763497688f650493169d"
   }
  }
 },
 "nbformat": 4,
 "nbformat_minor": 2
}
