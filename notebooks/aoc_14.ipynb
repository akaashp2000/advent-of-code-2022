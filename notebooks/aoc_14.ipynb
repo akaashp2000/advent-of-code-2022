{
 "cells": [
  {
   "cell_type": "code",
   "execution_count": 282,
   "metadata": {},
   "outputs": [],
   "source": [
    "import pandas as pd\n",
    "import itertools"
   ]
  },
  {
   "cell_type": "code",
   "execution_count": 283,
   "metadata": {},
   "outputs": [],
   "source": [
    "def read_file(test=False):\n",
    "    with open(f'../data/input_14{\"_test\" if test else \"\"}.txt', 'r') as file:\n",
    "        data = file.read().split('\\n')[:-1]\n",
    "        data = [[tuple(map(int, y.split(','))) for y in x.split(' -> ')] for x in data]\n",
    "        file.close()\n",
    "\n",
    "    return data"
   ]
  },
  {
   "cell_type": "code",
   "execution_count": 284,
   "metadata": {},
   "outputs": [],
   "source": [
    "data = read_file()"
   ]
  },
  {
   "cell_type": "code",
   "execution_count": 285,
   "metadata": {},
   "outputs": [],
   "source": [
    "class Cave:\n",
    "    def __init__(self, data):\n",
    "        rows = [min(list(itertools.chain(*[[y[0] for y in x] for x in data]))), max(list(itertools.chain(*[[y[0] for y in x] for x in data])))]\n",
    "        cols = [min(list(itertools.chain(*[[y[1] for y in x] for x in data]))), max(list(itertools.chain(*[[y[1] for y in x] for x in data])))]\n",
    "        self.rows = range(rows[0], rows[1]+1)\n",
    "        self.columns = range(0, cols[1]+1)\n",
    "        self.data = data\n",
    "        self.df = self.cave_df_fill()\n",
    "        self.full = False\n",
    "\n",
    "    def cave_df_fill(self):\n",
    "        cave_df = pd.DataFrame(index = self.rows, columns=self.columns)\n",
    "        for path in self.data:\n",
    "            for line in [(path[i], path[i+1]) for i in range(len(path)-1)]:\n",
    "                start, end = line\n",
    "                if start[0] == end[0]:\n",
    "                    for i in range(min(start[1], end[1]), max(start[1], end[1])+1):\n",
    "                        cave_df.loc[start[0], i] = '#'\n",
    "                else:\n",
    "                    for i in range(min(start[0], end[0]), max(start[0], end[0])+1):\n",
    "                        cave_df.loc[i, start[1]] = '#'\n",
    "        cave_df.fillna('.', inplace=True)\n",
    "        return cave_df.T\n",
    "\n",
    "    def sand(self):\n",
    "        unblocked = True\n",
    "        sand = [500,0]\n",
    "        while unblocked and not self.full:\n",
    "            try:\n",
    "                if self.df.loc[sand[1]+1].at[sand[0]] == '.':\n",
    "                    sand[1] += 1\n",
    "                elif self.df.loc[sand[1]+1].at[sand[0]-1] == '.':\n",
    "                    sand[0] -= 1\n",
    "                    sand[1] += 1\n",
    "                elif self.df.loc[sand[1]+1].at[sand[0]+1] == '.':\n",
    "                    sand[0] += 1\n",
    "                    sand[1] += 1\n",
    "                else:\n",
    "                    unblocked = False\n",
    "                    self.df.loc[sand[1]].at[sand[0]] = 'o'\n",
    "            except:\n",
    "                self.full = True\n",
    "\n",
    "    def fill_sand(self):\n",
    "        i = 0\n",
    "        while not self.full:\n",
    "            self.sand()\n",
    "            i += 1\n",
    "        return i - 1"
   ]
  },
  {
   "cell_type": "code",
   "execution_count": 286,
   "metadata": {},
   "outputs": [
    {
     "data": {
      "text/plain": [
       "757"
      ]
     },
     "execution_count": 286,
     "metadata": {},
     "output_type": "execute_result"
    }
   ],
   "source": [
    "cave = Cave(data)\n",
    "cave.fill_sand()"
   ]
  }
 ],
 "metadata": {
  "kernelspec": {
   "display_name": "venv",
   "language": "python",
   "name": "python3"
  },
  "language_info": {
   "codemirror_mode": {
    "name": "ipython",
    "version": 3
   },
   "file_extension": ".py",
   "mimetype": "text/x-python",
   "name": "python",
   "nbconvert_exporter": "python",
   "pygments_lexer": "ipython3",
   "version": "3.9.12"
  },
  "orig_nbformat": 4,
  "vscode": {
   "interpreter": {
    "hash": "9ec5fc6f2b5f4e9f0e8cf19b0d36b2109aee8b1eaa97dc39911c09f6ac631a49"
   }
  }
 },
 "nbformat": 4,
 "nbformat_minor": 2
}
