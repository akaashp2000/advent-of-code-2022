{
 "cells": [
  {
   "cell_type": "code",
   "execution_count": 78,
   "metadata": {},
   "outputs": [],
   "source": [
    "def read_file(test=False):\n",
    "\n",
    "    with open(f'../data/input_15{\"_test\" if test else \"\"}.txt', 'r') as file:\n",
    "        data = [x.split('Sensor at x=')[1] for x in file.read().split('\\n')[:-1]]\n",
    "        data = [x.split(': closest beacon is at x=') for x in data]\n",
    "        data = [[tuple(map(int, y.split(', y='))) for y in x] for x in data]\n",
    "        data = {dat[0]: {'beacon': dat[1], 'distance': abs(dat[0][0] - dat[1][0]) + abs(dat[0][1] - dat[1][1])} for dat in data}\n",
    "\n",
    "    return data"
   ]
  },
  {
   "cell_type": "code",
   "execution_count": 79,
   "metadata": {},
   "outputs": [
    {
     "data": {
      "text/plain": [
       "5403290"
      ]
     },
     "execution_count": 79,
     "metadata": {},
     "output_type": "execute_result"
    }
   ],
   "source": [
    "# Part 1\n",
    "\n",
    "test = False\n",
    "data = read_file(test)\n",
    "\n",
    "out = set()\n",
    "y = 10 if test else 2000000\n",
    "for sensor in data.keys():\n",
    "    d = data[sensor]['distance']\n",
    "    out = out.union(set(range(sensor[0] - (d - abs(sensor[1] - y)), sensor[0] + (d - abs(sensor[1] - y) + 1))))\n",
    "    if data[sensor]['beacon'][1] == y:\n",
    "        out = out - set([data[sensor]['beacon'][0]])\n",
    "\n",
    "len(out)"
   ]
  }
 ],
 "metadata": {
  "kernelspec": {
   "display_name": "venv",
   "language": "python",
   "name": "python3"
  },
  "language_info": {
   "codemirror_mode": {
    "name": "ipython",
    "version": 3
   },
   "file_extension": ".py",
   "mimetype": "text/x-python",
   "name": "python",
   "nbconvert_exporter": "python",
   "pygments_lexer": "ipython3",
   "version": "3.9.13"
  },
  "orig_nbformat": 4,
  "vscode": {
   "interpreter": {
    "hash": "0f8ef9982dec2d6c038b4f0c3f0f3ef9c5495dba2d96c6edda8142b7fced4d73"
   }
  }
 },
 "nbformat": 4,
 "nbformat_minor": 2
}
