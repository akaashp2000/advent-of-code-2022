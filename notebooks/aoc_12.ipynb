{
 "cells": [
  {
   "cell_type": "code",
   "execution_count": 3,
   "metadata": {},
   "outputs": [
    {
     "ename": "ModuleNotFoundError",
     "evalue": "No module named 'modules_folder'",
     "output_type": "error",
     "traceback": [
      "\u001b[0;31m---------------------------------------------------------------------------\u001b[0m",
      "\u001b[0;31mModuleNotFoundError\u001b[0m                       Traceback (most recent call last)",
      "Cell \u001b[0;32mIn[3], line 4\u001b[0m\n\u001b[1;32m      2\u001b[0m \u001b[39mimport\u001b[39;00m \u001b[39mnumpy\u001b[39;00m \u001b[39mas\u001b[39;00m \u001b[39mnp\u001b[39;00m\n\u001b[1;32m      3\u001b[0m \u001b[39mimport\u001b[39;00m \u001b[39mitertools\u001b[39;00m\n\u001b[0;32m----> 4\u001b[0m \u001b[39mfrom\u001b[39;00m \u001b[39mmodules_folder\u001b[39;00m\u001b[39m.\u001b[39;00m\u001b[39mmapgraph\u001b[39;00m \u001b[39mimport\u001b[39;00m MapGraph\n",
      "\u001b[0;31mModuleNotFoundError\u001b[0m: No module named 'modules_folder'"
     ]
    }
   ],
   "source": [
    "import pandas as pd\n",
    "import numpy as np\n",
    "import itertools\n",
    "from modules_folder.mapgraph import MapGraph"
   ]
  },
  {
   "cell_type": "code",
   "execution_count": 96,
   "metadata": {},
   "outputs": [],
   "source": [
    "def data_to_df(test=False):\n",
    "    letter_to_number = {letter: i for i, letter in list(enumerate(['S', *sorted('qwertyuiopasdfghjklzxcvbnm'), 'E']))}\n",
    "\n",
    "    with open(f'../data/input_12{\"_test\" if test else \"\"}.txt', 'r') as file:\n",
    "        data = [[letter_to_number[y] for y in x] for x in file.read().split('\\n')[:-1]]\n",
    "        file.close()\n",
    "\n",
    "    map_df = pd.DataFrame(data) # (20, 0) and (20, 107) are where we start and end\n",
    "    return map_df"
   ]
  },
  {
   "cell_type": "code",
   "execution_count": 97,
   "metadata": {},
   "outputs": [],
   "source": [
    "def start_end(df, num_letters=26):\n",
    "    for coordinate in list(itertools.product(range(df.shape[0]), range(df.shape[1]))):\n",
    "        if df.iloc[coordinate] == 0:\n",
    "            start = coordinate\n",
    "        elif df.iloc[coordinate] == 27:\n",
    "            end = coordinate\n",
    "\n",
    "    return start, end"
   ]
  },
  {
   "cell_type": "code",
   "execution_count": 98,
   "metadata": {},
   "outputs": [],
   "source": [
    "def children(coordinate, df):\n",
    "    df_width = df.shape[0]\n",
    "    df_height = df.shape[1]\n",
    "    children = [(coordinate, kid) for kid in [(coordinate[0]+1, coordinate[1]), (coordinate[0]-1, coordinate[1]), (coordinate[0], coordinate[1]+1), (coordinate[0], coordinate[1]-1)] if kid[0] in range(df_width) and kid[1] in range(df_height) and df.iloc[kid] <= df.iloc[coordinate] + 1]\n",
    "    return(children)"
   ]
  },
  {
   "cell_type": "code",
   "execution_count": 99,
   "metadata": {},
   "outputs": [],
   "source": [
    "def parents(coordinate, df):\n",
    "    df_width = df.shape[0]\n",
    "    df_height = df.shape[1]\n",
    "    parents = [(coordinate, parent) for parent in [(coordinate[0]+1, coordinate[1]), (coordinate[0]-1, coordinate[1]), (coordinate[0], coordinate[1]+1), (coordinate[0], coordinate[1]-1)] if parent[0] in range(df_width) and parent[1] in range(df_height) and df.iloc[coordinate] <= df.iloc[parent] + 1]\n",
    "    return(parents)"
   ]
  },
  {
   "cell_type": "code",
   "execution_count": 100,
   "metadata": {},
   "outputs": [],
   "source": [
    "def coordinates(df):\n",
    "    return list(itertools.product(range(df.shape[0]), range(df.shape[1])))"
   ]
  },
  {
   "cell_type": "code",
   "execution_count": 101,
   "metadata": {},
   "outputs": [],
   "source": [
    "def connections(df, inverted=False):\n",
    "    if inverted is False:\n",
    "        return {coordinate: children(coordinate, df) for coordinate in coordinates(df)}\n",
    "    else:\n",
    "        return {coordinate: parents(coordinate, df) for coordinate in coordinates(df)}"
   ]
  },
  {
   "cell_type": "code",
   "execution_count": 102,
   "metadata": {},
   "outputs": [],
   "source": [
    "map_df = data_to_df(True)"
   ]
  },
  {
   "cell_type": "code",
   "execution_count": 104,
   "metadata": {},
   "outputs": [
    {
     "data": {
      "text/plain": [
       "449"
      ]
     },
     "execution_count": 104,
     "metadata": {},
     "output_type": "execute_result"
    }
   ],
   "source": [
    "# Part 1\n",
    "\n",
    "map_df = data_to_df()\n",
    "graph = MapGraph(coordinates(map_df), connections(map_df))\n",
    "graph.shortest_distance(start_end(map_df)[0], start_end(map_df)[1])"
   ]
  },
  {
   "cell_type": "code",
   "execution_count": 105,
   "metadata": {},
   "outputs": [
    {
     "data": {
      "text/plain": [
       "443"
      ]
     },
     "execution_count": 105,
     "metadata": {},
     "output_type": "execute_result"
    }
   ],
   "source": [
    "# Part 2\n",
    "\n",
    "check = [y for y in graph.vertices if map_df.iloc[y] == 1]\n",
    "\n",
    "graph_inv = MapGraph(coordinates(map_df), connections(map_df, inverted=True))\n",
    "graph_inv.shortest_distance_multiple(start_end(map_df)[1], check)"
   ]
  }
 ],
 "metadata": {
  "kernelspec": {
   "display_name": "venv",
   "language": "python",
   "name": "python3"
  },
  "language_info": {
   "codemirror_mode": {
    "name": "ipython",
    "version": 3
   },
   "file_extension": ".py",
   "mimetype": "text/x-python",
   "name": "python",
   "nbconvert_exporter": "python",
   "pygments_lexer": "ipython3",
   "version": "3.9.13"
  },
  "orig_nbformat": 4,
  "vscode": {
   "interpreter": {
    "hash": "0f8ef9982dec2d6c038b4f0c3f0f3ef9c5495dba2d96c6edda8142b7fced4d73"
   }
  }
 },
 "nbformat": 4,
 "nbformat_minor": 2
}
