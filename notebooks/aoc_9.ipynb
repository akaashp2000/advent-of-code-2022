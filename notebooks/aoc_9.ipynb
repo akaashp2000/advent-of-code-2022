{
 "cells": [
  {
   "cell_type": "code",
   "execution_count": 1,
   "metadata": {},
   "outputs": [],
   "source": [
    "import numpy as np"
   ]
  },
  {
   "cell_type": "code",
   "execution_count": 2,
   "metadata": {},
   "outputs": [],
   "source": [
    "def tail(h_visited):\n",
    "\n",
    "    t = None\n",
    "\n",
    "    t_visited = []\n",
    "\n",
    "    for i, h in list(enumerate(h_visited)):\n",
    "        if t == None:\n",
    "            t = complex(0)\n",
    "        elif h - t in [complex(1,1), complex(1,-1), complex(-1,1), complex(-1,-1),0,*dir_dict.values()]:\n",
    "            t = t\n",
    "        elif h - t in [complex(2), complex(-2), complex(0,2), complex(0,-2)]:\n",
    "            t += (h-t)/2\n",
    "        else:\n",
    "            if h_visited[i-1] - t in dir_dict.values():\n",
    "                t += h-h_visited[i-1]\n",
    "            else:    \n",
    "                t = h_visited[i-1]\n",
    "\n",
    "        t_visited.append(t)\n",
    "\n",
    "    return(t_visited)\n",
    "    "
   ]
  },
  {
   "cell_type": "code",
   "execution_count": 3,
   "metadata": {},
   "outputs": [
    {
     "name": "stdout",
     "output_type": "stream",
     "text": [
      "6197\n"
     ]
    }
   ],
   "source": [
    "# part 1\n",
    "\n",
    "with open('../data/input_09.txt','r') as file:\n",
    "    data = file.read().split('\\n')[:-1]\n",
    "    file.close()\n",
    "\n",
    "data = [x.split(' ') for x in data]\n",
    "data = [[x,int(y)] for x, y in data]\n",
    "data\n",
    "\n",
    "h = complex(0)\n",
    "t = None\n",
    "\n",
    "dir_dict = {\n",
    "    'L': complex(-1),\n",
    "    'U': complex(0,1),\n",
    "    'R': complex(1),\n",
    "    'D': complex(0,-1)\n",
    "}\n",
    "\n",
    "t_visited = []\n",
    "h_visited = []\n",
    "\n",
    "for dir, dist in data:\n",
    "    dir = dir_dict[dir]\n",
    "    for i in range(dist):\n",
    "        h += dir\n",
    "        if t == None:\n",
    "            t = complex(0)\n",
    "        elif h - t == 2*dir:\n",
    "            t += dir\n",
    "        elif h - t not in [complex(1,1), complex(1,-1), complex(-1,1), complex(-1,-1),*[*dir_dict.values(),0]]:\n",
    "            t = h - dir\n",
    "    \n",
    "        t_visited.append(t)\n",
    "        h_visited.append(h)\n",
    "\n",
    "print(len(set(t_visited)))\n",
    "        "
   ]
  },
  {
   "cell_type": "code",
   "execution_count": 4,
   "metadata": {},
   "outputs": [
    {
     "name": "stdout",
     "output_type": "stream",
     "text": [
      "2562\n"
     ]
    }
   ],
   "source": [
    "# part 2\n",
    "\n",
    "t_visited = h_visited\n",
    "for i in range(9):\n",
    "    t_visited = tail(t_visited)\n",
    "\n",
    "print(len(set(t_visited)))"
   ]
  }
 ],
 "metadata": {
  "kernelspec": {
   "display_name": "base",
   "language": "python",
   "name": "python3"
  },
  "language_info": {
   "codemirror_mode": {
    "name": "ipython",
    "version": 3
   },
   "file_extension": ".py",
   "mimetype": "text/x-python",
   "name": "python",
   "nbconvert_exporter": "python",
   "pygments_lexer": "ipython3",
   "version": "3.9.12"
  },
  "orig_nbformat": 4,
  "vscode": {
   "interpreter": {
    "hash": "0f6f8d1bc3858cb7dc3483d1d93336083ab083c5dfd2763497688f650493169d"
   }
  }
 },
 "nbformat": 4,
 "nbformat_minor": 2
}
