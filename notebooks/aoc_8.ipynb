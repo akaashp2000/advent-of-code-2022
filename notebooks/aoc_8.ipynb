{
 "cells": [
  {
   "cell_type": "code",
   "execution_count": 1,
   "metadata": {},
   "outputs": [],
   "source": [
    "import pandas as pd"
   ]
  },
  {
   "cell_type": "code",
   "execution_count": 2,
   "metadata": {},
   "outputs": [],
   "source": [
    "with open('../data/input_08.txt', 'r') as file:\n",
    "    data = [list(map(int, list(x))) for x in file.read().split('\\n')[:-1]]"
   ]
  },
  {
   "cell_type": "code",
   "execution_count": 3,
   "metadata": {},
   "outputs": [],
   "source": [
    "data_df = pd.DataFrame(data)"
   ]
  },
  {
   "cell_type": "code",
   "execution_count": 4,
   "metadata": {},
   "outputs": [
    {
     "name": "stdout",
     "output_type": "stream",
     "text": [
      "1538\n"
     ]
    }
   ],
   "source": [
    "visible = 0\n",
    "for x in range(data_df.shape[0]):\n",
    "    for y in range(data_df.shape[1]):\n",
    "        if x == 0 or x == 98 or y == 0 or y == 98:\n",
    "            visible += 1\n",
    "        else:\n",
    "            if data_df.loc[x, y] > max(data_df.loc[x, :y-1].values) or data_df.loc[x, y] > max(data_df.loc[x, y+1:].values) \\\n",
    "                or data_df.loc[x, y] > max(data_df.loc[:x-1, y].values) or data_df.loc[x, y] > max(data_df.loc[x+1:, y].values):\n",
    "                visible +=1\n",
    "print(visible)"
   ]
  },
  {
   "cell_type": "code",
   "execution_count": 5,
   "metadata": {},
   "outputs": [
    {
     "name": "stdout",
     "output_type": "stream",
     "text": [
      "496125\n"
     ]
    }
   ],
   "source": [
    "scenic_score = 0\n",
    "for x in range(data_df.shape[0]):\n",
    "    for y in range(data_df.shape[1]):\n",
    "        l, r, u, d = 0, 0, 0, 0\n",
    "        if x == 0:\n",
    "            l = 1\n",
    "        if x == data_df.shape[0]:\n",
    "            r = 1\n",
    "        if y == 0:\n",
    "            u = 1\n",
    "        if y == data_df.shape[1]:\n",
    "            d = 1\n",
    "        \n",
    "        if l == 0:\n",
    "            stop = 0\n",
    "            for z in range(x)[::-1]:\n",
    "                stop += 1\n",
    "                if data_df.loc[z, y] >= data_df.loc[x, y]:\n",
    "                    break\n",
    "            l = stop\n",
    "\n",
    "        if r == 0:\n",
    "            stop = 0\n",
    "            for z in range(x+1, data_df.shape[0]):\n",
    "                stop += 1\n",
    "                if data_df.loc[z, y] >= data_df.loc[x, y]:\n",
    "                    break\n",
    "            r = stop\n",
    "\n",
    "        if u == 0:\n",
    "            stop = 0\n",
    "            for z in range(y)[::-1]:\n",
    "                stop += 1\n",
    "                if data_df.loc[x, z] >= data_df.loc[x, y]:\n",
    "                    break\n",
    "            u = stop\n",
    "\n",
    "        if d == 0:\n",
    "            stop = 0\n",
    "            for z in range(y+1, data_df.shape[1]):\n",
    "                stop += 1\n",
    "                if data_df.loc[x, z] >= data_df.loc[x, y]:\n",
    "                    break\n",
    "            d = stop\n",
    "\n",
    "        scenic_score = max([l*u*d*r, scenic_score])\n",
    "\n",
    "print(scenic_score)"
   ]
  }
 ],
 "metadata": {
  "kernelspec": {
   "display_name": "base",
   "language": "python",
   "name": "python3"
  },
  "language_info": {
   "codemirror_mode": {
    "name": "ipython",
    "version": 3
   },
   "file_extension": ".py",
   "mimetype": "text/x-python",
   "name": "python",
   "nbconvert_exporter": "python",
   "pygments_lexer": "ipython3",
   "version": "3.9.12"
  },
  "orig_nbformat": 4,
  "vscode": {
   "interpreter": {
    "hash": "0f6f8d1bc3858cb7dc3483d1d93336083ab083c5dfd2763497688f650493169d"
   }
  }
 },
 "nbformat": 4,
 "nbformat_minor": 2
}
