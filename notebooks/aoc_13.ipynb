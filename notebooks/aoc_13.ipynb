{
 "cells": [
  {
   "cell_type": "code",
   "execution_count": 1,
   "metadata": {},
   "outputs": [],
   "source": [
    "from ast import literal_eval\n",
    "from copy import deepcopy"
   ]
  },
  {
   "cell_type": "code",
   "execution_count": 2,
   "metadata": {},
   "outputs": [],
   "source": [
    "def read_file(test=False):\n",
    "    with open(f\"../data/input_13{'_test' if test else ''}.txt\",'r') as file:\n",
    "        data = [list(map(literal_eval, x.split('\\n')[:2])) for x in file.read().split('\\n\\n')]\n",
    "\n",
    "    return data"
   ]
  },
  {
   "attachments": {},
   "cell_type": "markdown",
   "metadata": {},
   "source": [
    "I took a peek at the following solution since my initial one didn't work: https://galaxyinferno.com/how-to-solve-advent-of-code-2022-day-13-with-python/\n",
    "\n",
    "My original function is below - commented, which would return True or False. It had issues handling ties. It would only move on from a comparison if it was comparing identical items - but some items aren't identical and would still not give an outcome by the rules. For example, if comparing [5] and 5, it should:\n",
    "- compare [5] with [5]\n",
    "- compare 5 with 5\n",
    "- compare [] with []\n",
    "- skip to the next pair of items,\n",
    "\n",
    "but in the third comparison my function would see that the first list is empty is return True, but it should skip to the next pair items."
   ]
  },
  {
   "cell_type": "code",
   "execution_count": 3,
   "metadata": {},
   "outputs": [],
   "source": [
    "# def list_comparison(list1, list2):\n",
    "\n",
    "#     if len(list1) == 0:\n",
    "#         # print(f'List 1 empty, but list 2: {list2}')\n",
    "#         return True\n",
    "#     elif len(list2) == 0:\n",
    "#         # print(f'List 2 empty, but list 1: {list1}')\n",
    "#         return False\n",
    "#     elif list1[0] == list2[0]:\n",
    "#         # print(f'First elements same {list1[0]}, so comparing rest of list.')\n",
    "#         return list_comparison(list1[1:], list2[1:])\n",
    "#     elif isinstance(list1[0], int) and isinstance(list2[0], int):\n",
    "#         if list1[0] < list2[0]:\n",
    "#             # print(f'First element smaller in List 1, {list1[0]} < {list2[0]}')\n",
    "#             return True\n",
    "#         elif list1[0] > list2[0]:\n",
    "#             # print(f'First element smaller in List 2, {list1[0]} > {list2[0]}')\n",
    "#             return False\n",
    "#     else:\n",
    "#         if (not isinstance(list1[0], int)) and (not isinstance(list2[0], int)):\n",
    "#             # print(f'Comparing first two lists')\n",
    "#             return list_comparison(list1[0], list2[0])\n",
    "#         elif isinstance(list1[0], int) and (not isinstance(list2[0], int)):\n",
    "#             # print(f'Changed list 1 first entry from {list1[0]} to {[list1[0]]}')\n",
    "#             return list_comparison([list1[0]], list2[0])\n",
    "#         else:\n",
    "#             # print(f'Changed list 2 first entry from {list2[0]} to {[list2[0]]}')\n",
    "#             return list_comparison(list1[0], [list2[0]])"
   ]
  },
  {
   "cell_type": "code",
   "execution_count": 4,
   "metadata": {},
   "outputs": [],
   "source": [
    "def list_comparison(list1, list2):\n",
    "\n",
    "    if len(list1)*len(list2) > 0:\n",
    "        if isinstance(list1[0], int) and isinstance(list2[0], int):\n",
    "            if list1[0] < list2[0]:\n",
    "                subcomparison = 1\n",
    "            elif list1[0] > list2[0]:\n",
    "                subcomparison = -1\n",
    "            else:\n",
    "                subcomparison = 0\n",
    "        elif isinstance(list1[0], int) and not isinstance(list2[0], int):\n",
    "            subcomparison = list_comparison([list1[0]], list2[0])\n",
    "        elif not isinstance(list1[0], int) and isinstance(list2[0], int):\n",
    "            subcomparison = list_comparison(list1[0], [list2[0]])\n",
    "        else:\n",
    "            subcomparison = list_comparison(list1[0], list2[0])\n",
    "\n",
    "        if subcomparison != 0:\n",
    "            return subcomparison\n",
    "        else:\n",
    "            return list_comparison(list1[1:], list2[1:])\n",
    "\n",
    "    elif len(list1) > 0:\n",
    "        return -1\n",
    "    elif len(list2) > 0:\n",
    "        return 1\n",
    "    else:\n",
    "        return 0\n"
   ]
  },
  {
   "cell_type": "code",
   "execution_count": 5,
   "metadata": {},
   "outputs": [
    {
     "name": "stdout",
     "output_type": "stream",
     "text": [
      "6484\n"
     ]
    }
   ],
   "source": [
    "correct_pair = []\n",
    "\n",
    "data = read_file()\n",
    "for index, pair in list(enumerate(data)):\n",
    "    if list_comparison(pair[0], pair[1]) == 1:\n",
    "        correct_pair.append(index + 1)\n",
    "\n",
    "print(sum(correct_pair))"
   ]
  },
  {
   "attachments": {},
   "cell_type": "markdown",
   "metadata": {},
   "source": [
    "Part 2\n",
    "\n",
    "We only need the positions of \\[\\[2]] and [\\[6]] in the full ordering, not the full ordering itself. So we find these positions; first_index is the position of [[2]] and second_index that of [[6]]. first_index is started at 1, and second_index at 2 (since we then add on the number of lists in data that it comes after, and we know that [[6]] also comes after [[2]])"
   ]
  },
  {
   "cell_type": "code",
   "execution_count": 6,
   "metadata": {},
   "outputs": [
    {
     "name": "stdout",
     "output_type": "stream",
     "text": [
      "19305\n"
     ]
    }
   ],
   "source": [
    "data = read_file()\n",
    "_data = []\n",
    "for x in data:\n",
    "    _data.append(x[0])\n",
    "    _data.append(x[1])\n",
    "data = _data\n",
    "\n",
    "first_index = 1\n",
    "second_index = 2\n",
    "\n",
    "for x in data:\n",
    "    if list_comparison([[2]], x) == -1:\n",
    "        first_index += 1\n",
    "    if list_comparison([[6]], x) == -1:\n",
    "        second_index += 1\n",
    "\n",
    "print(first_index*second_index)"
   ]
  }
 ],
 "metadata": {
  "kernelspec": {
   "display_name": "venv",
   "language": "python",
   "name": "python3"
  },
  "language_info": {
   "codemirror_mode": {
    "name": "ipython",
    "version": 3
   },
   "file_extension": ".py",
   "mimetype": "text/x-python",
   "name": "python",
   "nbconvert_exporter": "python",
   "pygments_lexer": "ipython3",
   "version": "3.9.13"
  },
  "orig_nbformat": 4,
  "vscode": {
   "interpreter": {
    "hash": "0f8ef9982dec2d6c038b4f0c3f0f3ef9c5495dba2d96c6edda8142b7fced4d73"
   }
  }
 },
 "nbformat": 4,
 "nbformat_minor": 2
}
