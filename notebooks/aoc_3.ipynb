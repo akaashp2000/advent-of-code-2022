{
 "cells": [
  {
   "cell_type": "code",
   "execution_count": 1,
   "metadata": {},
   "outputs": [],
   "source": [
    "with open('../data/input_03.txt') as file:\n",
    "    data = file.read().split('\\n')[:-1]"
   ]
  },
  {
   "cell_type": "code",
   "execution_count": 2,
   "metadata": {},
   "outputs": [
    {
     "name": "stdout",
     "output_type": "stream",
     "text": [
      "8185\n"
     ]
    }
   ],
   "source": [
    "dupl = []\n",
    "for line in data:\n",
    "    dupl.append(list(set(line[:int(len(line)/2)]) & set(line[int(len(line)/2):])))\n",
    "\n",
    "duplPriority = [ord(letter[0]) for letter in dupl]\n",
    "duplPriority = [priority - 96 if priority > 96 else priority - 38 for priority in duplPriority]\n",
    "\n",
    "print(sum(duplPriority))"
   ]
  },
  {
   "cell_type": "code",
   "execution_count": 3,
   "metadata": {},
   "outputs": [
    {
     "name": "stdout",
     "output_type": "stream",
     "text": [
      "2817\n"
     ]
    }
   ],
   "source": [
    "x = []\n",
    "for index in range(int(len(data)/3)):\n",
    "    x.append(list(set(data[3*index]) & set(data[3*index + 1]) & set(data[3*index + 2])))\n",
    "\n",
    "duplPriority = [ord(letter[0]) for letter in x]\n",
    "duplPriority = [priority - 96 if priority > 96 else priority - 38 for priority in duplPriority]\n",
    "\n",
    "print(sum(duplPriority))"
   ]
  }
 ],
 "metadata": {
  "kernelspec": {
   "display_name": "Python 3.9.12 ('base')",
   "language": "python",
   "name": "python3"
  },
  "language_info": {
   "codemirror_mode": {
    "name": "ipython",
    "version": 3
   },
   "file_extension": ".py",
   "mimetype": "text/x-python",
   "name": "python",
   "nbconvert_exporter": "python",
   "pygments_lexer": "ipython3",
   "version": "3.9.12"
  },
  "orig_nbformat": 4,
  "vscode": {
   "interpreter": {
    "hash": "0f6f8d1bc3858cb7dc3483d1d93336083ab083c5dfd2763497688f650493169d"
   }
  }
 },
 "nbformat": 4,
 "nbformat_minor": 2
}
