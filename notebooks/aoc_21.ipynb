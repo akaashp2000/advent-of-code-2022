{
 "cells": [
  {
   "cell_type": "code",
   "execution_count": 89,
   "metadata": {},
   "outputs": [],
   "source": [
    "import decimal"
   ]
  },
  {
   "cell_type": "code",
   "execution_count": 90,
   "metadata": {},
   "outputs": [],
   "source": [
    "def read_file(test=False):\n",
    "    \"\"\"outputs dictionary with:\n",
    "    - keys as monkeys\n",
    "    - values are dictionaries which have:\n",
    "        - keys as 'instruction' and 'value'\n",
    "        - values: 'instruction' is either an integer as a string for its value, or an array of [monkey1, operation, monkey2],\n",
    "        and 'value' as int(instruction), the integer value it yells, or None if not yet computed.\n",
    "    \"\"\"\n",
    "    \n",
    "    with open(f\"../data/input_21{'_test' if test else ''}.txt\") as file:\n",
    "        data = {y[0]: {'instruction': y[1]} for y in [x.split(': ') for x in file.read().split('\\n')[:-1]]}\n",
    "        file.close()\n",
    "\n",
    "    for monkey in data.keys():\n",
    "        try:\n",
    "            data[monkey]['value'] = int(data[monkey]['instruction'])\n",
    "        except:\n",
    "            data[monkey]['value'] = None\n",
    "        if len(set(['*','+','-','/','=']) & set(data[monkey]['instruction'])) > 0:\n",
    "            data[monkey]['instruction'] = data[monkey]['instruction'].split(' ')\n",
    "\n",
    "    return data"
   ]
  },
  {
   "cell_type": "code",
   "execution_count": 91,
   "metadata": {},
   "outputs": [],
   "source": [
    "data = read_file()"
   ]
  },
  {
   "cell_type": "code",
   "execution_count": 92,
   "metadata": {},
   "outputs": [],
   "source": [
    "inst_to_lambda = {\n",
    "    '+': (lambda x,y: x+y),\n",
    "    '-': (lambda x,y: x-y),\n",
    "    '/': (lambda x,y: x/y),\n",
    "    '*': (lambda x,y: x*y),\n",
    "}"
   ]
  },
  {
   "cell_type": "code",
   "execution_count": 93,
   "metadata": {},
   "outputs": [
    {
     "name": "stdout",
     "output_type": "stream",
     "text": [
      "51928383302238\n"
     ]
    }
   ],
   "source": [
    "while data['root']['value'] is None:\n",
    "    for monkey in data.keys():\n",
    "        if data[monkey]['value'] is None:\n",
    "            try:\n",
    "                x0 = int(data[data[monkey]['instruction'][0]]['value'])\n",
    "                x1 = int(data[data[monkey]['instruction'][2]]['value'])\n",
    "                data[monkey]['value'] = inst_to_lambda[data[monkey]['instruction'][1]](x0, x1)\n",
    "            except TypeError:\n",
    "                pass\n",
    "\n",
    "print(data['root']['value'])"
   ]
  },
  {
   "cell_type": "code",
   "execution_count": 104,
   "metadata": {},
   "outputs": [
    {
     "name": "stdout",
     "output_type": "stream",
     "text": [
      "100\n"
     ]
    }
   ],
   "source": [
    "# Part 2\n",
    "\n",
    "# we have a function to get the difference between the two inputs for root, which should be zero, from the value for root, initial.\n",
    "# we try initial = 1, 2, ..., 10 and see what the function looks like. \n",
    "\n",
    "initial = 1\n",
    "tracking = []\n",
    "\n",
    "while True:\n",
    "\n",
    "    data = read_file()\n",
    "    data['root']['instruction'][1] = '-'\n",
    "    data['humn']['value'] = initial\n",
    "    while data['root']['value'] is None:\n",
    "        for monkey in data.keys():\n",
    "            if data[monkey]['value'] is None:\n",
    "                try:\n",
    "                    x0 = decimal.Decimal(data[data[monkey]['instruction'][0]]['value'])\n",
    "                    x1 = decimal.Decimal(data[data[monkey]['instruction'][2]]['value'])\n",
    "                    data[monkey]['value'] = inst_to_lambda[data[monkey]['instruction'][1]](x0, x1)\n",
    "                except TypeError:\n",
    "                    pass\n",
    "\n",
    "    if data['root']['value'] == 0 or initial >= 100:\n",
    "        print(initial)\n",
    "        break\n",
    "    else:\n",
    "        tracking.append(data['root']['value'])\n",
    "\n",
    "    initial += 1"
   ]
  },
  {
   "cell_type": "code",
   "execution_count": 105,
   "metadata": {},
   "outputs": [],
   "source": [
    "tracking_change = [tracking[i+1] - tracking[i] for i in range(len(tracking) - 1)]"
   ]
  },
  {
   "cell_type": "code",
   "execution_count": 106,
   "metadata": {},
   "outputs": [
    {
     "data": {
      "text/plain": [
       "[Decimal('17910080841625.05820105820105'),\n",
       " Decimal('17910080841619.64021164021165'),\n",
       " Decimal('17910080841614.22222222222222'),\n",
       " Decimal('17910080841608.8042328042328'),\n",
       " Decimal('17910080841603.38624338624338'),\n",
       " Decimal('17910080841597.96825396825398'),\n",
       " Decimal('17910080841592.55026455026455'),\n",
       " Decimal('17910080841587.13227513227512'),\n",
       " Decimal('17910080841581.71428571428572'),\n",
       " Decimal('17910080841576.2962962962963'),\n",
       " Decimal('17910080841570.87830687830688'),\n",
       " Decimal('17910080841565.46031746031745'),\n",
       " Decimal('17910080841560.04232804232805'),\n",
       " Decimal('17910080841554.62433862433862'),\n",
       " Decimal('17910080841549.2063492063492'),\n",
       " Decimal('17910080841543.7883597883598'),\n",
       " Decimal('17910080841538.37037037037038'),\n",
       " Decimal('17910080841532.95238095238095'),\n",
       " Decimal('17910080841527.53439153439152'),\n",
       " Decimal('17910080841522.11640211640212'),\n",
       " Decimal('17910080841516.6984126984127'),\n",
       " Decimal('17910080841511.28042328042328'),\n",
       " Decimal('17910080841505.86243386243385'),\n",
       " Decimal('17910080841500.44444444444445'),\n",
       " Decimal('17910080841495.02645502645502'),\n",
       " Decimal('17910080841489.6084656084656'),\n",
       " Decimal('17910080841484.1904761904762'),\n",
       " Decimal('17910080841478.77248677248678'),\n",
       " Decimal('17910080841473.35449735449735'),\n",
       " Decimal('17910080841467.93650793650792'),\n",
       " Decimal('17910080841462.51851851851852'),\n",
       " Decimal('17910080841457.1005291005291'),\n",
       " Decimal('17910080841451.68253968253968'),\n",
       " Decimal('17910080841446.26455026455028'),\n",
       " Decimal('17910080841440.84656084656085'),\n",
       " Decimal('17910080841435.42857142857142'),\n",
       " Decimal('17910080841430.0105820105820'),\n",
       " Decimal('17910080841424.5925925925926'),\n",
       " Decimal('17910080841419.17460317460318'),\n",
       " Decimal('17910080841413.75661375661375'),\n",
       " Decimal('17910080841408.33862433862435'),\n",
       " Decimal('17910080841402.92063492063492'),\n",
       " Decimal('17910080841397.5026455026455'),\n",
       " Decimal('17910080841392.08465608465608'),\n",
       " Decimal('17910080841386.66666666666668'),\n",
       " Decimal('17910080841381.24867724867725'),\n",
       " Decimal('17910080841375.83068783068782'),\n",
       " Decimal('17910080841370.41269841269842'),\n",
       " Decimal('17910080841364.9947089947090'),\n",
       " Decimal('17910080841359.57671957671958'),\n",
       " Decimal('17910080841354.15873015873015'),\n",
       " Decimal('17910080841348.74074074074075'),\n",
       " Decimal('17910080841343.32275132275132'),\n",
       " Decimal('17910080841337.9047619047619'),\n",
       " Decimal('17910080841332.48677248677248'),\n",
       " Decimal('17910080841327.06878306878308'),\n",
       " Decimal('17910080841321.65079365079365'),\n",
       " Decimal('17910080841316.23280423280422'),\n",
       " Decimal('17910080841310.81481481481482'),\n",
       " Decimal('17910080841305.3968253968254'),\n",
       " Decimal('17910080841299.97883597883598'),\n",
       " Decimal('17910080841294.56084656084655'),\n",
       " Decimal('17910080841289.14285714285715'),\n",
       " Decimal('17910080841283.72486772486772'),\n",
       " Decimal('17910080841278.3068783068783'),\n",
       " Decimal('17910080841272.8888888888889'),\n",
       " Decimal('17910080841267.47089947089948'),\n",
       " Decimal('17910080841262.05291005291005'),\n",
       " Decimal('17910080841256.63492063492062'),\n",
       " Decimal('17910080841251.21693121693122'),\n",
       " Decimal('17910080841245.7989417989418'),\n",
       " Decimal('17910080841240.38095238095238'),\n",
       " Decimal('17910080841234.96296296296298'),\n",
       " Decimal('17910080841229.54497354497355'),\n",
       " Decimal('17910080841224.12698412698412'),\n",
       " Decimal('17910080841218.7089947089947'),\n",
       " Decimal('17910080841213.2910052910053'),\n",
       " Decimal('17910080841207.87301587301588'),\n",
       " Decimal('17910080841202.45502645502645'),\n",
       " Decimal('17910080841197.03703703703702'),\n",
       " Decimal('17910080841191.61904761904762'),\n",
       " Decimal('17910080841186.2010582010582'),\n",
       " Decimal('17910080841180.78306878306878'),\n",
       " Decimal('17910080841175.36507936507938'),\n",
       " Decimal('17910080841169.94708994708995'),\n",
       " Decimal('17910080841164.52910052910052'),\n",
       " Decimal('17910080841159.1111111111111'),\n",
       " Decimal('17910080841153.6931216931217'),\n",
       " Decimal('17910080841148.27513227513228'),\n",
       " Decimal('17910080841142.85714285714285'),\n",
       " Decimal('17910080841137.43915343915345'),\n",
       " Decimal('17910080841132.02116402116402'),\n",
       " Decimal('17910080841126.6031746031746'),\n",
       " Decimal('17910080841121.18518518518518'),\n",
       " Decimal('17910080841115.76719576719578'),\n",
       " Decimal('17910080841110.34920634920635'),\n",
       " Decimal('17910080841104.93121693121692'),\n",
       " Decimal('17910080841099.51322751322752'),\n",
       " Decimal('17910080841094.0952380952381')]"
      ]
     },
     "execution_count": 106,
     "metadata": {},
     "output_type": "execute_result"
    }
   ],
   "source": [
    "tracking"
   ]
  },
  {
   "cell_type": "code",
   "execution_count": 107,
   "metadata": {},
   "outputs": [
    {
     "data": {
      "text/plain": [
       "[Decimal('-5.41798941798940'),\n",
       " Decimal('-5.41798941798943'),\n",
       " Decimal('-5.41798941798942'),\n",
       " Decimal('-5.41798941798942'),\n",
       " Decimal('-5.41798941798940'),\n",
       " Decimal('-5.41798941798943'),\n",
       " Decimal('-5.41798941798943'),\n",
       " Decimal('-5.41798941798940'),\n",
       " Decimal('-5.41798941798942'),\n",
       " Decimal('-5.41798941798942'),\n",
       " Decimal('-5.41798941798943'),\n",
       " Decimal('-5.41798941798940'),\n",
       " Decimal('-5.41798941798943'),\n",
       " Decimal('-5.41798941798942'),\n",
       " Decimal('-5.4179894179894'),\n",
       " Decimal('-5.41798941798942'),\n",
       " Decimal('-5.41798941798943'),\n",
       " Decimal('-5.41798941798943'),\n",
       " Decimal('-5.41798941798940'),\n",
       " Decimal('-5.41798941798942'),\n",
       " Decimal('-5.41798941798942'),\n",
       " Decimal('-5.41798941798943'),\n",
       " Decimal('-5.41798941798940'),\n",
       " Decimal('-5.41798941798943'),\n",
       " Decimal('-5.41798941798942'),\n",
       " Decimal('-5.4179894179894'),\n",
       " Decimal('-5.41798941798942'),\n",
       " Decimal('-5.41798941798943'),\n",
       " Decimal('-5.41798941798943'),\n",
       " Decimal('-5.41798941798940'),\n",
       " Decimal('-5.41798941798942'),\n",
       " Decimal('-5.41798941798942'),\n",
       " Decimal('-5.41798941798940'),\n",
       " Decimal('-5.41798941798943'),\n",
       " Decimal('-5.41798941798943'),\n",
       " Decimal('-5.41798941798942'),\n",
       " Decimal('-5.4179894179894'),\n",
       " Decimal('-5.41798941798942'),\n",
       " Decimal('-5.41798941798943'),\n",
       " Decimal('-5.41798941798940'),\n",
       " Decimal('-5.41798941798943'),\n",
       " Decimal('-5.41798941798942'),\n",
       " Decimal('-5.41798941798942'),\n",
       " Decimal('-5.41798941798940'),\n",
       " Decimal('-5.41798941798943'),\n",
       " Decimal('-5.41798941798943'),\n",
       " Decimal('-5.41798941798940'),\n",
       " Decimal('-5.41798941798942'),\n",
       " Decimal('-5.41798941798942'),\n",
       " Decimal('-5.41798941798943'),\n",
       " Decimal('-5.41798941798940'),\n",
       " Decimal('-5.41798941798943'),\n",
       " Decimal('-5.41798941798942'),\n",
       " Decimal('-5.41798941798942'),\n",
       " Decimal('-5.41798941798940'),\n",
       " Decimal('-5.41798941798943'),\n",
       " Decimal('-5.41798941798943'),\n",
       " Decimal('-5.41798941798940'),\n",
       " Decimal('-5.41798941798942'),\n",
       " Decimal('-5.41798941798942'),\n",
       " Decimal('-5.41798941798943'),\n",
       " Decimal('-5.41798941798940'),\n",
       " Decimal('-5.41798941798943'),\n",
       " Decimal('-5.41798941798942'),\n",
       " Decimal('-5.4179894179894'),\n",
       " Decimal('-5.41798941798942'),\n",
       " Decimal('-5.41798941798943'),\n",
       " Decimal('-5.41798941798943'),\n",
       " Decimal('-5.41798941798940'),\n",
       " Decimal('-5.41798941798942'),\n",
       " Decimal('-5.41798941798942'),\n",
       " Decimal('-5.41798941798940'),\n",
       " Decimal('-5.41798941798943'),\n",
       " Decimal('-5.41798941798943'),\n",
       " Decimal('-5.41798941798942'),\n",
       " Decimal('-5.4179894179894'),\n",
       " Decimal('-5.41798941798942'),\n",
       " Decimal('-5.41798941798943'),\n",
       " Decimal('-5.41798941798943'),\n",
       " Decimal('-5.41798941798940'),\n",
       " Decimal('-5.41798941798942'),\n",
       " Decimal('-5.41798941798942'),\n",
       " Decimal('-5.41798941798940'),\n",
       " Decimal('-5.41798941798943'),\n",
       " Decimal('-5.41798941798943'),\n",
       " Decimal('-5.41798941798942'),\n",
       " Decimal('-5.4179894179894'),\n",
       " Decimal('-5.41798941798942'),\n",
       " Decimal('-5.41798941798943'),\n",
       " Decimal('-5.41798941798940'),\n",
       " Decimal('-5.41798941798943'),\n",
       " Decimal('-5.41798941798942'),\n",
       " Decimal('-5.41798941798942'),\n",
       " Decimal('-5.41798941798940'),\n",
       " Decimal('-5.41798941798943'),\n",
       " Decimal('-5.41798941798943'),\n",
       " Decimal('-5.41798941798940'),\n",
       " Decimal('-5.41798941798942')]"
      ]
     },
     "execution_count": 107,
     "metadata": {},
     "output_type": "execute_result"
    }
   ],
   "source": [
    "tracking_change"
   ]
  },
  {
   "cell_type": "code",
   "execution_count": 108,
   "metadata": {},
   "outputs": [],
   "source": [
    "# the difference between root(initial) for consecutive initial = 1,..., 100 looks very constant, so it seems that root is a linear \n",
    "# function of initial. this means the root should be at the value below."
   ]
  },
  {
   "cell_type": "code",
   "execution_count": 109,
   "metadata": {},
   "outputs": [
    {
     "data": {
      "text/plain": [
       "Decimal('3305669217839.010975854824855')"
      ]
     },
     "execution_count": 109,
     "metadata": {},
     "output_type": "execute_result"
    }
   ],
   "source": [
    "-tracking[0]/tracking_change[0]"
   ]
  },
  {
   "cell_type": "markdown",
   "metadata": {},
   "source": []
  },
  {
   "cell_type": "code",
   "execution_count": 110,
   "metadata": {},
   "outputs": [
    {
     "name": "stdout",
     "output_type": "stream",
     "text": [
      "3305669217840\n"
     ]
    }
   ],
   "source": [
    "# this value is very close to 3305669217839, so we start checking from 3305669217835 instead.\n",
    "\n",
    "initial = 3305669217835\n",
    "tracking = []\n",
    "\n",
    "while True:\n",
    "\n",
    "    data = read_file()\n",
    "    data['root']['instruction'][1] = '-'\n",
    "    data['humn']['value'] = initial\n",
    "    while data['root']['value'] is None:\n",
    "        for monkey in data.keys():\n",
    "            if data[monkey]['value'] is None:\n",
    "                try:\n",
    "                    x0 = decimal.Decimal(data[data[monkey]['instruction'][0]]['value'])\n",
    "                    x1 = decimal.Decimal(data[data[monkey]['instruction'][2]]['value'])\n",
    "                    data[monkey]['value'] = inst_to_lambda[data[monkey]['instruction'][1]](x0, x1)\n",
    "                except TypeError:\n",
    "                    pass\n",
    "\n",
    "    if data['root']['value'] == 0:\n",
    "        print(initial)\n",
    "        break\n",
    "    else:\n",
    "        tracking.append(data['root']['value'])\n",
    "\n",
    "    initial += 1\n",
    "\n",
    "# ... and find the final solution when initial = 3305669217840. Lucky guess!"
   ]
  }
 ],
 "metadata": {
  "kernelspec": {
   "display_name": "venv",
   "language": "python",
   "name": "python3"
  },
  "language_info": {
   "codemirror_mode": {
    "name": "ipython",
    "version": 3
   },
   "file_extension": ".py",
   "mimetype": "text/x-python",
   "name": "python",
   "nbconvert_exporter": "python",
   "pygments_lexer": "ipython3",
   "version": "3.9.12"
  },
  "orig_nbformat": 4,
  "vscode": {
   "interpreter": {
    "hash": "9ec5fc6f2b5f4e9f0e8cf19b0d36b2109aee8b1eaa97dc39911c09f6ac631a49"
   }
  }
 },
 "nbformat": 4,
 "nbformat_minor": 2
}
