{
 "cells": [
  {
   "cell_type": "code",
   "execution_count": 37,
   "metadata": {},
   "outputs": [],
   "source": [
    "with open('../data/input_21.txt') as file:\n",
    "    data = {y[0]: {'instruction': y[1]} for y in [x.split(': ') for x in file.read().split('\\n')[:-1]]}\n",
    "    file.close()"
   ]
  },
  {
   "cell_type": "code",
   "execution_count": 38,
   "metadata": {},
   "outputs": [],
   "source": [
    "for monkey in data.keys():\n",
    "    try:\n",
    "        data[monkey]['value'] = int(data[monkey]['instruction'])\n",
    "    except:\n",
    "        data[monkey]['value'] = None\n",
    "    if len(set(['*','+','-','+']) & set(data[monkey]['instruction'])) > 0:\n",
    "        data[monkey]['instruction'] = data[monkey]['instruction'].split(' ')"
   ]
  },
  {
   "cell_type": "code",
   "execution_count": 39,
   "metadata": {},
   "outputs": [],
   "source": [
    "inst_to_lambda = {\n",
    "    '+': (lambda x,y: x+y),\n",
    "    '-': (lambda x,y: x-y),\n",
    "    '/': (lambda x,y: x/y),\n",
    "    '*': (lambda x,y: x*y)\n",
    "}"
   ]
  }
 ],
 "metadata": {
  "kernelspec": {
   "display_name": "venv",
   "language": "python",
   "name": "python3"
  },
  "language_info": {
   "codemirror_mode": {
    "name": "ipython",
    "version": 3
   },
   "file_extension": ".py",
   "mimetype": "text/x-python",
   "name": "python",
   "nbconvert_exporter": "python",
   "pygments_lexer": "ipython3",
   "version": "3.9.13"
  },
  "orig_nbformat": 4,
  "vscode": {
   "interpreter": {
    "hash": "0f8ef9982dec2d6c038b4f0c3f0f3ef9c5495dba2d96c6edda8142b7fced4d73"
   }
  }
 },
 "nbformat": 4,
 "nbformat_minor": 2
}
