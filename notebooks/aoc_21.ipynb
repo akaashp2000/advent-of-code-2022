{
 "cells": [
  {
   "cell_type": "code",
   "execution_count": 6,
   "metadata": {},
   "outputs": [],
   "source": [
    "def read_file(test=False):\n",
    "    \"\"\"outputs dictionary with:\n",
    "    - keys as monkeys\n",
    "    - values are dictionaries which have:\n",
    "        - keys as 'instruction' and 'value'\n",
    "        - values: 'instruction' is either an integer as a string for its value, or an array of [monkey1, operation, monkey2],\n",
    "        and 'value' as int(instruction), the integer value it yells, or None if not yet computed.\n",
    "    \"\"\"\n",
    "    \n",
    "    with open(f\"../data/input_21{'_test' if test else ''}.txt\") as file:\n",
    "        data = {y[0]: {'instruction': y[1]} for y in [x.split(': ') for x in file.read().split('\\n')[:-1]]}\n",
    "        file.close()\n",
    "\n",
    "    for monkey in data.keys():\n",
    "        try:\n",
    "            data[monkey]['value'] = int(data[monkey]['instruction'])\n",
    "        except:\n",
    "            data[monkey]['value'] = None\n",
    "        if len(set(['*','+','-','/','=']) & set(data[monkey]['instruction'])) > 0:\n",
    "            data[monkey]['instruction'] = data[monkey]['instruction'].split(' ')\n",
    "\n",
    "    return data"
   ]
  },
  {
   "cell_type": "code",
   "execution_count": 7,
   "metadata": {},
   "outputs": [],
   "source": [
    "data = read_file()"
   ]
  },
  {
   "cell_type": "code",
   "execution_count": 8,
   "metadata": {},
   "outputs": [],
   "source": [
    "inst_to_lambda = {\n",
    "    '+': (lambda x,y: x+y),\n",
    "    '-': (lambda x,y: x-y),\n",
    "    '/': (lambda x,y: x/y),\n",
    "    '*': (lambda x,y: x*y),\n",
    "    '=': (lambda x,y: int(x)==int(y))\n",
    "}"
   ]
  },
  {
   "cell_type": "code",
   "execution_count": 9,
   "metadata": {},
   "outputs": [
    {
     "name": "stdout",
     "output_type": "stream",
     "text": [
      "51928383302238\n"
     ]
    }
   ],
   "source": [
    "while data['root']['value'] is None:\n",
    "    for monkey in data.keys():\n",
    "        if data[monkey]['value'] is None:\n",
    "            try:\n",
    "                x0 = int(data[data[monkey]['instruction'][0]]['value'])\n",
    "                x1 = int(data[data[monkey]['instruction'][2]]['value'])\n",
    "                data[monkey]['value'] = inst_to_lambda[data[monkey]['instruction'][1]](x0, x1)\n",
    "            except TypeError:\n",
    "                pass\n",
    "\n",
    "print(data['root']['value'])"
   ]
  },
  {
   "cell_type": "code",
   "execution_count": 13,
   "metadata": {},
   "outputs": [
    {
     "ename": "KeyboardInterrupt",
     "evalue": "",
     "output_type": "error",
     "traceback": [
      "\u001b[0;31m---------------------------------------------------------------------------\u001b[0m",
      "\u001b[0;31mKeyboardInterrupt\u001b[0m                         Traceback (most recent call last)",
      "Cell \u001b[0;32mIn[13], line 14\u001b[0m\n\u001b[1;32m     12\u001b[0m     x0 \u001b[39m=\u001b[39m \u001b[39mint\u001b[39m(data[data[monkey][\u001b[39m'\u001b[39m\u001b[39minstruction\u001b[39m\u001b[39m'\u001b[39m][\u001b[39m0\u001b[39m]][\u001b[39m'\u001b[39m\u001b[39mvalue\u001b[39m\u001b[39m'\u001b[39m])\n\u001b[1;32m     13\u001b[0m     x1 \u001b[39m=\u001b[39m \u001b[39mint\u001b[39m(data[data[monkey][\u001b[39m'\u001b[39m\u001b[39minstruction\u001b[39m\u001b[39m'\u001b[39m][\u001b[39m2\u001b[39m]][\u001b[39m'\u001b[39m\u001b[39mvalue\u001b[39m\u001b[39m'\u001b[39m])\n\u001b[0;32m---> 14\u001b[0m     data[monkey][\u001b[39m'\u001b[39m\u001b[39mvalue\u001b[39m\u001b[39m'\u001b[39m] \u001b[39m=\u001b[39m inst_to_lambda[data[monkey][\u001b[39m'\u001b[39m\u001b[39minstruction\u001b[39m\u001b[39m'\u001b[39m][\u001b[39m1\u001b[39m]](x0, x1)\n\u001b[1;32m     15\u001b[0m \u001b[39mexcept\u001b[39;00m \u001b[39mTypeError\u001b[39;00m:\n\u001b[1;32m     16\u001b[0m     \u001b[39mpass\u001b[39;00m\n",
      "\u001b[0;31mKeyboardInterrupt\u001b[0m: "
     ]
    }
   ],
   "source": [
    "initial = 1\n",
    "\n",
    "while True:\n",
    "\n",
    "    data = read_file(False)\n",
    "    data['root']['instruction'][1] = '='\n",
    "    data['humn']['value'] = initial\n",
    "    while data['root']['value'] is None:\n",
    "        for monkey in data.keys():\n",
    "            if data[monkey]['value'] is None:\n",
    "                try:\n",
    "                    x0 = int(data[data[monkey]['instruction'][0]]['value'])\n",
    "                    x1 = int(data[data[monkey]['instruction'][2]]['value'])\n",
    "                    data[monkey]['value'] = inst_to_lambda[data[monkey]['instruction'][1]](x0, x1)\n",
    "                except TypeError:\n",
    "                    pass\n",
    "\n",
    "    if data['root']['value'] is True:\n",
    "        print(initial)\n",
    "        break\n",
    "\n",
    "    initial += 1\n",
    "\n",
    "\n",
    "\n",
    "# test committing"
   ]
  }
 ],
 "metadata": {
  "kernelspec": {
   "display_name": "venv",
   "language": "python",
   "name": "python3"
  },
  "language_info": {
   "codemirror_mode": {
    "name": "ipython",
    "version": 3
   },
   "file_extension": ".py",
   "mimetype": "text/x-python",
   "name": "python",
   "nbconvert_exporter": "python",
   "pygments_lexer": "ipython3",
   "version": "3.9.13 (main, Aug 25 2022, 23:26:10) \n[GCC 11.2.0]"
  },
  "orig_nbformat": 4,
  "vscode": {
   "interpreter": {
    "hash": "0f8ef9982dec2d6c038b4f0c3f0f3ef9c5495dba2d96c6edda8142b7fced4d73"
   }
  }
 },
 "nbformat": 4,
 "nbformat_minor": 2
}
